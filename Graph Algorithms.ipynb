{
 "cells": [
  {
   "cell_type": "code",
   "execution_count": 12,
   "id": "c9cb3ee2",
   "metadata": {},
   "outputs": [],
   "source": [
    "#Sample graph - Adjacency List\n",
    "graph = {'a':['b','c'],\n",
    "        'b':['d'],\n",
    "        'c':['e'],\n",
    "        'd':['f'],\n",
    "        'e':[],\n",
    "        'f':[],\n",
    "         'g':[]\n",
    "        } "
   ]
  },
  {
   "cell_type": "code",
   "execution_count": 13,
   "id": "bd308071",
   "metadata": {},
   "outputs": [],
   "source": [
    "## DFS - stack - Depth First Search\n",
    "\n",
    "def depthFirstPrint(graph,startNode):\n",
    "    \n",
    "    stack = []\n",
    "    stack.append(startNode)\n",
    "    \n",
    "    while stack:\n",
    "        current = stack.pop()\n",
    "        print(current)\n",
    "        for i in graph[current]:\n",
    "            stack.append(i)\n",
    "#depthFirstPrint(graph,'a')"
   ]
  },
  {
   "cell_type": "code",
   "execution_count": 14,
   "id": "56d63489",
   "metadata": {},
   "outputs": [],
   "source": [
    "#Recursion\n",
    "\n",
    "def depthFirstPrintRecursion(graph, sourceNode):\n",
    "    print(sourceNode)\n",
    "    if graph[sourceNode] is None: # we don't need a base case for this as the iteration anyway returns null\n",
    "        return \n",
    "    for i in graph[sourceNode]:\n",
    "        depthFirstPrintRecursion(graph,i)\n",
    "        \n",
    "#depthFirstPrintRecursion(graph,'a')"
   ]
  },
  {
   "cell_type": "code",
   "execution_count": 15,
   "id": "28364a1b",
   "metadata": {},
   "outputs": [],
   "source": [
    "# Breadth First Search\n",
    "\n",
    "def breadthFirstSearch(graph, startNode):\n",
    "    \n",
    "    queue = [] \n",
    "    queue.append(startNode)\n",
    "    \n",
    "    while queue:\n",
    "        current = queue.pop(0)\n",
    "        print(current)\n",
    "        for i in graph[current]:\n",
    "            queue.append(i)\n",
    "#breadthFirstSearch(graph, 'a')"
   ]
  },
  {
   "cell_type": "code",
   "execution_count": 16,
   "id": "23bd7e38",
   "metadata": {},
   "outputs": [],
   "source": [
    "# Has Path problem - Using dfs - iteration - Acyclic Graph\n",
    "def hasPath(graph, source, destination):\n",
    "    \n",
    "    stack = []\n",
    "    stack.append(source)\n",
    "    \n",
    "    while stack:\n",
    "        current = stack.pop()\n",
    "        if current == destination:\n",
    "            return True\n",
    "        for i in graph[current]:\n",
    "            stack.append(i)\n",
    "    return False\n",
    "#hasPath(graph,'g','e')"
   ]
  },
  {
   "cell_type": "code",
   "execution_count": 17,
   "id": "675dc063",
   "metadata": {},
   "outputs": [],
   "source": [
    "# Has Path problem - Using bfs - iteration - Acyclic Graph\n",
    "\n",
    "def hasPathBfs(graph, source, destination):\n",
    "    queue = []\n",
    "    queue.append(source)\n",
    "    \n",
    "    while queue:\n",
    "        current = queue.pop()\n",
    "        if current == destination:\n",
    "            return True\n",
    "        for i in graph[current]:\n",
    "            queue.append(i)\n",
    "    return False\n",
    "#hasPath(graph,'f','a')"
   ]
  },
  {
   "cell_type": "code",
   "execution_count": 18,
   "id": "4e374733",
   "metadata": {},
   "outputs": [],
   "source": [
    "#Convert edges array to adjacency list\n",
    "\n",
    "edges = [['i','j'],['k','i'],['m','k'],['k','l'],['o','n']]\n",
    "\n",
    "def edgeToAdjacencyList(edges):\n",
    "    \n",
    "    graph = {}\n",
    "    for i in edges:\n",
    "        if i[0] not in graph:\n",
    "            graph[i[0]] = [i[1]]\n",
    "        else:\n",
    "            graph[i[0]].append(i[1])\n",
    "            \n",
    "        if i[1] not in graph:\n",
    "            graph[i[1]] = [i[0]]\n",
    "        else:\n",
    "            graph[i[1]].append(i[0])\n",
    "    return graph\n",
    "\n",
    "edgesToAdjList = edgeToAdjacencyList(edges)\n",
    "\n",
    "#hasPath(edgesToAdjList, 'i', 'o')\n",
    "#If I run the above hasPath function, it will not terminate because of cycle in graph\n",
    "#To avoid this, we'll use visited flag to identify the already visited node and not visit them again"
   ]
  },
  {
   "cell_type": "code",
   "execution_count": 19,
   "id": "c38ee16b",
   "metadata": {},
   "outputs": [
    {
     "data": {
      "text/plain": [
       "True"
      ]
     },
     "execution_count": 19,
     "metadata": {},
     "output_type": "execute_result"
    }
   ],
   "source": [
    "#For Undirected Graph With Cycle\n",
    "\n",
    "def hasPath(graph, source, destination):\n",
    "    visited = set()\n",
    "    \n",
    "    stack = []\n",
    "    stack.append(source)\n",
    "    \n",
    "    while stack: \n",
    "        current = stack.pop()\n",
    "        visited.add(current)\n",
    "        \n",
    "        if current == destination:\n",
    "            return True\n",
    "        for i in graph[current]:\n",
    "            if i not in visited:\n",
    "                stack.append(i)\n",
    "    return False\n",
    "\n",
    "\n",
    "hasPath(edgesToAdjList, 'i', 'l')"
   ]
  },
  {
   "cell_type": "code",
   "execution_count": 10,
   "id": "475741e9",
   "metadata": {},
   "outputs": [
    {
     "name": "stdout",
     "output_type": "stream",
     "text": [
      "{0, 8, 5, 1}\n",
      "{0, 1, 2, 3, 4, 5, 8}\n",
      "2\n"
     ]
    }
   ],
   "source": [
    "#Connected component count\n",
    "\n",
    "# Algorithm - traversal + dfs\n",
    "\n",
    "# Not yet completed.\n",
    "\n",
    "graph = {0:[8,1,5],1:[0],5:[0,8],8:[0,5],2:[3,4],3:[2,4],4:[3,2]}\n",
    "\n",
    "def connectedComponentCount(graph):\n",
    "\n",
    "    count = 0 \n",
    "    visited = set()\n",
    "\n",
    "    def depthFirstSearch(graph,source):\n",
    "        stack = []\n",
    "        stack.append(source)\n",
    "        \n",
    "        while stack:\n",
    "            current = stack.pop()\n",
    "            visited.add(current)\n",
    "            for i in graph[current]:\n",
    "                if i not in visited:\n",
    "                    stack.append(i)\n",
    "        \n",
    "            \n",
    "    for key in graph:\n",
    "        if key not in visited:\n",
    "            count += 1\n",
    "            depthFirstSearch(graph,key)\n",
    "            print(visited)\n",
    "    print(count)\n",
    "\n",
    "connectedComponentCount(graph)\n"
   ]
  },
  {
   "cell_type": "code",
   "execution_count": 23,
   "id": "92854b83",
   "metadata": {},
   "outputs": [
    {
     "name": "stdout",
     "output_type": "stream",
     "text": [
      "4\n"
     ]
    }
   ],
   "source": [
    "# Largest Component\n",
    "\n",
    "# Algorithm - traversal + dfs\n",
    "\n",
    "# Not yet completed.\n",
    "\n",
    "graph = {0:[8,1,5],1:[0],5:[0,8],8:[0,5],2:[3,4],3:[2,4],4:[3,2]}\n",
    "\n",
    "def connectedComponentCount(graph):\n",
    "\n",
    "    count = 0 \n",
    "    visited = set()\n",
    "    \n",
    "    def depthFirstSearch(graph,source):\n",
    "        stack = []\n",
    "        component = set()\n",
    "        stack.append(source)\n",
    "        \n",
    "        while stack:\n",
    "            current = stack.pop()\n",
    "            component.add(current)\n",
    "            visited.add(current)\n",
    "            for i in graph[current]:\n",
    "                if i not in visited:\n",
    "                    stack.append(i)\n",
    "        return len(component)\n",
    "    \n",
    "    maxSize = float('-inf')\n",
    "    for key in graph:\n",
    "        if key not in visited:\n",
    "            count += 1\n",
    "            maxSize = max(maxSize,depthFirstSearch(graph,key))\n",
    "            #print(visited)\n",
    "    print(maxSize)\n",
    "\n",
    "connectedComponentCount(graph)\n",
    "\n"
   ]
  },
  {
   "cell_type": "code",
   "execution_count": 38,
   "id": "d35959b7",
   "metadata": {},
   "outputs": [
    {
     "name": "stdout",
     "output_type": "stream",
     "text": [
      "{0: [8, 1, 5], 1: [0, 2, 2, 2], 5: [0, 8], 8: [0, 5], 2: [3, 4], 3: [2, 4], 4: [3, 2]}\n"
     ]
    },
    {
     "data": {
      "text/plain": [
       "3"
      ]
     },
     "execution_count": 38,
     "metadata": {},
     "output_type": "execute_result"
    }
   ],
   "source": [
    "# Shortest path - BFS\n",
    "# Graph path finding algorithm\n",
    "\n",
    "def shortestPath(graph, source, destination):\n",
    "    print(graph)\n",
    "    queue = []\n",
    "    visited = set()\n",
    "    queue.append((source,0))\n",
    "    \n",
    "    while queue:\n",
    "        current,mins = queue.pop(0)\n",
    "        visited.add(current)\n",
    "        if current == destination:\n",
    "            return mins\n",
    "        for i in graph[current]:\n",
    "            if i not in visited:\n",
    "                queue.append((i,mins+1))\n",
    "    return -1\n",
    "\n",
    "graph[1].append(2) #Adding 2 just to connent the two different graphs\n",
    "shortestPath(graph,0,3)"
   ]
  },
  {
   "cell_type": "code",
   "execution_count": 2,
   "id": "a50ff139",
   "metadata": {},
   "outputs": [],
   "source": [
    "#Grid Graph - Number of islands\n",
    "\n",
    "grid = [[0,1,0,0,1,0],\n",
    "        [1,1,0,0,1,0],\n",
    "        [0,1,0,0,0,0],\n",
    "        [0,0,0,1,1,0],\n",
    "        [0,1,0,1,1,0],\n",
    "        [0,0,0,0,0,0]]\n",
    "\n",
    "#Ans\n",
    "answer = [[False, True, False, False, True, False], \n",
    "          [True, True, False, False, True, False], \n",
    "          [False, True, False, False, False, False], \n",
    "          [False, False, False, True, True, False], \n",
    "          [False, True, False, True, True, False], \n",
    "          [False, False, False, False, False, False]]\n",
    "#print(grid)"
   ]
  },
  {
   "cell_type": "code",
   "execution_count": 21,
   "id": "ec2569b1",
   "metadata": {},
   "outputs": [
    {
     "name": "stdout",
     "output_type": "stream",
     "text": [
      "(0, 1) (1, 1) (1, 0) (2, 1) \n",
      "\n",
      "(0, 4) (1, 4) \n",
      "\n",
      "(3, 3) (4, 3) (4, 4) (3, 4) \n",
      "\n",
      "(4, 1) \n",
      "\n"
     ]
    },
    {
     "data": {
      "text/plain": [
       "4"
      ]
     },
     "execution_count": 21,
     "metadata": {},
     "output_type": "execute_result"
    }
   ],
   "source": [
    "# Number of island \n",
    "\n",
    "def islandCount(grid):\n",
    "    \n",
    "    row = len(grid)\n",
    "    col = len(grid[0])\n",
    "    \n",
    "    directions = [(-1,0),(0,1),(1,0),(0,-1)]\n",
    "    visited = [[False for j in range(col)] for i in range(row)]\n",
    "    \n",
    "    def depthFirstSearch(i,j):\n",
    "        \n",
    "        stack = []\n",
    "        stack.append((i,j))\n",
    "        \n",
    "        while stack:\n",
    "            current = stack.pop()\n",
    "            i = current[0]\n",
    "            j = current[1]\n",
    "            print(current,end=' ')\n",
    "            for direc in directions:\n",
    "                r = i+direc[0]\n",
    "                c = j+direc[1]\n",
    "                \n",
    "                if r>=0 and r<row and c>=0 and c < col and visited[r][c] == False and grid[r][c] == 1:\n",
    "                    visited[r][c] = True\n",
    "                    stack.append((r,c))\n",
    "        print('\\n')\n",
    "            \n",
    "    count = 0\n",
    "    for i in range(row):\n",
    "        for j in range(col):\n",
    "            if grid[i][j] == 1 and not visited[i][j]:\n",
    "                visited[i][j] = True\n",
    "                depthFirstSearch(i,j)\n",
    "                \n",
    "                count += 1\n",
    "                #print(visited)\n",
    "    return count\n",
    "    \n",
    "islandCount(grid)"
   ]
  },
  {
   "cell_type": "code",
   "execution_count": 28,
   "id": "08e64ba9",
   "metadata": {},
   "outputs": [
    {
     "data": {
      "text/plain": [
       "1"
      ]
     },
     "execution_count": 28,
     "metadata": {},
     "output_type": "execute_result"
    }
   ],
   "source": [
    "# Minimum Island \n",
    "\n",
    "def minimumIsland(grid):\n",
    "    \n",
    "    row = len(grid)\n",
    "    col = len(grid[0])\n",
    "    \n",
    "    visited = [[False for j in range(col)] for i in range(row)]\n",
    "    minLength = float('inf')\n",
    "    directions = [(-1,0),(0,1),(1,0),(0,-1)]\n",
    "    \n",
    "    def depthFirstSearch(i,j):\n",
    "        \n",
    "        stack = []\n",
    "        stack.append((i,j))\n",
    "        count = 0\n",
    "        while stack:\n",
    "            current = stack.pop()\n",
    "            i = current[0]\n",
    "            j = current[1]\n",
    "            count += 1\n",
    "            for direc in directions:\n",
    "                r = i+direc[0]\n",
    "                c = j+direc[1]\n",
    "                \n",
    "                if r>=0 and r<row and c>=0 and c < col and grid[r][c] == 1 and visited[r][c] == False:\n",
    "                    visited[r][c] = True \n",
    "                    stack.append((r,c))\n",
    "        return count\n",
    "    \n",
    "    for i in range(row):\n",
    "        for j in range(col):\n",
    "            if grid[i][j] == 1 and visited[i][j] == False:\n",
    "                visited[i][j] = True\n",
    "                minLength = min(minLength,depthFirstSearch(i,j))\n",
    "                \n",
    "    return minLength\n",
    "\n",
    "minimumIsland(grid)"
   ]
  },
  {
   "cell_type": "code",
   "execution_count": null,
   "id": "cbdca8e5",
   "metadata": {},
   "outputs": [],
   "source": []
  }
 ],
 "metadata": {
  "kernelspec": {
   "display_name": "Python 3",
   "language": "python",
   "name": "python3"
  },
  "language_info": {
   "codemirror_mode": {
    "name": "ipython",
    "version": 3
   },
   "file_extension": ".py",
   "mimetype": "text/x-python",
   "name": "python",
   "nbconvert_exporter": "python",
   "pygments_lexer": "ipython3",
   "version": "3.8.8"
  }
 },
 "nbformat": 4,
 "nbformat_minor": 5
}
